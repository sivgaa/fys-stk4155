{
 "cells": [
  {
   "cell_type": "markdown",
   "id": "73e0b190",
   "metadata": {},
   "source": [
    "<!-- HTML file automatically generated from DocOnce source (https://github.com/doconce/doconce/)\n",
    "doconce format html week34.do.txt --no_mako -->\n",
    "<!-- dom:TITLE: Week 34: Introduction to the course, Logistics and Practicalities -->"
   ]
  },
  {
   "cell_type": "markdown",
   "id": "27166338",
   "metadata": {},
   "source": [
    "# Uke 34: tester og prøver ut litt forskjellig\n",
    "\n"
   ]
  },
  {
   "cell_type": "markdown",
   "id": "59753af0",
   "metadata": {},
   "source": [
    "markdown er tekst"
   ]
  },
  {
   "cell_type": "markdown",
   "id": "d5b542d4",
   "metadata": {},
   "source": [
    "# Exercise 2: making your own data and exploring scikit-learn\n",
    "\n",
    "We will generate our own dataset for a function $y(x)$ where $x \\in [0,1]$ and defined by random numbers computed with the uniform distribution. The function $y$ is a quadratic polynomial in $x$ with added stochastic noise according to the normal distribution $\\cal {N}(0,1)$.\n",
    "The following simple Python instructions define our $x$ and $y$ values (with 100 data points)."
   ]
  },
  {
   "cell_type": "code",
   "execution_count": 4,
   "id": "0a6493b9",
   "metadata": {},
   "outputs": [],
   "source": [
    "import numpy as np\n",
    "import matplotlib.pyplot as plt\n",
    "from sklearn.linear_model import LinearRegression"
   ]
  },
  {
   "cell_type": "code",
   "execution_count": 17,
   "id": "e8c21e36",
   "metadata": {},
   "outputs": [
    {
     "ename": "NameError",
     "evalue": "name 'Energies' is not defined",
     "output_type": "error",
     "traceback": [
      "\u001b[1;31m---------------------------------------------------------------------------\u001b[0m",
      "\u001b[1;31mNameError\u001b[0m                                 Traceback (most recent call last)",
      "Cell \u001b[1;32mIn[17], line 4\u001b[0m\n\u001b[0;32m      2\u001b[0m y \u001b[38;5;241m=\u001b[39m \u001b[38;5;241m2.0\u001b[39m\u001b[38;5;241m+\u001b[39m\u001b[38;5;241m5\u001b[39m\u001b[38;5;241m*\u001b[39mx\u001b[38;5;241m*\u001b[39mx\u001b[38;5;241m+\u001b[39m\u001b[38;5;241m0.1\u001b[39m\u001b[38;5;241m*\u001b[39mnp\u001b[38;5;241m.\u001b[39mrandom\u001b[38;5;241m.\u001b[39mrandn(\u001b[38;5;241m100\u001b[39m,\u001b[38;5;241m1\u001b[39m)\n\u001b[0;32m      3\u001b[0m \u001b[38;5;66;03m# matrix inversion to find beta\u001b[39;00m\n\u001b[1;32m----> 4\u001b[0m beta \u001b[38;5;241m=\u001b[39m np\u001b[38;5;241m.\u001b[39mlinalg\u001b[38;5;241m.\u001b[39minv(x\u001b[38;5;241m.\u001b[39mT\u001b[38;5;241m.\u001b[39mdot(x))\u001b[38;5;241m.\u001b[39mdot(x\u001b[38;5;241m.\u001b[39mT)\u001b[38;5;241m.\u001b[39mdot(\u001b[43mEnergies\u001b[49m)\n\u001b[0;32m      5\u001b[0m \u001b[38;5;66;03m# and then make the prediction\u001b[39;00m\n\u001b[0;32m      6\u001b[0m ytilde \u001b[38;5;241m=\u001b[39m x \u001b[38;5;241m@\u001b[39m beta\n",
      "\u001b[1;31mNameError\u001b[0m: name 'Energies' is not defined"
     ]
    }
   ],
   "source": [
    "x = np.random.rand(100,1)\n",
    "y = 2.0+5*x*x+0.1*np.random.randn(100,1)\n",
    "# matrix inversion to find beta\n",
    "beta = np.linalg.inv(x.T.dot(x)).dot(x.T).dot(Energies)\n",
    "# and then make the prediction\n",
    "ytilde = x @ beta"
   ]
  },
  {
   "cell_type": "code",
   "execution_count": 16,
   "id": "b67149df",
   "metadata": {},
   "outputs": [
    {
     "data": {
      "text/plain": [
       "[<matplotlib.lines.Line2D at 0x1668e3d07f0>]"
      ]
     },
     "execution_count": 16,
     "metadata": {},
     "output_type": "execute_result"
    },
    {
     "data": {
      "image/png": "[encoded data removed]",
      "text/plain": [
       "<Figure size 640x480 with 1 Axes>"
      ]
     },
     "metadata": {},
     "output_type": "display_data"
    }
   ],
   "source": [
    "x = np.random.rand(100,1)\n",
    "y = 2.0+5*x*x+0.1*np.random.randn(100,1)\n",
    "linreg = LinearRegression()\n",
    "linreg.fit(x,y)\n",
    "# This is our new x-array to which we test our model\n",
    "xnew = np.array([[0],[1]])\n",
    "ypredict = linreg.predict(xnew)\n",
    "plt.plot(xnew,ypredict)\n",
    "plt.plot(x,y,'.')"
   ]
  },
  {
   "cell_type": "code",
   "execution_count": 10,
   "id": "768b2f41",
   "metadata": {},
   "outputs": [
    {
     "data": {
      "text/plain": [
       "sklearn.linear_model._base.LinearRegression"
      ]
     },
     "execution_count": 10,
     "metadata": {},
     "output_type": "execute_result"
    }
   ],
   "source": [
    "type(linreg)"
   ]
  },
  {
   "cell_type": "code",
   "execution_count": null,
   "id": "644d45bc",
   "metadata": {},
   "outputs": [],
   "source": []
  }
 ],
 "metadata": {
  "kernelspec": {
   "display_name": "Python 3 (ipykernel)",
   "language": "python",
   "name": "python3"
  },
  "language_info": {
   "codemirror_mode": {
    "name": "ipython",
    "version": 3
   },
   "file_extension": ".py",
   "mimetype": "text/x-python",
   "name": "python",
   "nbconvert_exporter": "python",
   "pygments_lexer": "ipython3",
   "version": "3.10.9"
  }
 },
 "nbformat": 4,
 "nbformat_minor": 5
}
